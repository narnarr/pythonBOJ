{
 "cells": [
  {
   "cell_type": "markdown",
   "metadata": {
    "collapsed": true,
    "pycharm": {
     "name": "#%% md\n"
    }
   },
   "source": [
    "# 알파벳 찾기"
   ]
  },
  {
   "cell_type": "markdown",
   "source": [
    "### 1차 풀이\n",
    "if-else문으로 존재여부 확인하고, 존재할 경우 `index()`로 위치를 출력했다.\n",
    "또, 모든 알파벳을 담은 리스트를 선언하기 귀찮아서 아스키코드를 사용했다."
   ],
   "metadata": {
    "collapsed": false,
    "pycharm": {
     "name": "#%% md\n"
    }
   }
  },
  {
   "cell_type": "code",
   "execution_count": null,
   "outputs": [],
   "source": [
    "s = list(map(ord, input()))\n",
    "flag = [True]*26\n",
    "ans = ''\n",
    "\n",
    "for i in range(97, 123):\n",
    "    if flag[i-97]:\n",
    "        if i in s: ans = ans + str(s.index(i)) + ' '\n",
    "        else: ans = ans + '-1 '\n",
    "        flag[i-97] = False\n",
    "\n",
    "print(ans)"
   ],
   "metadata": {
    "collapsed": false,
    "pycharm": {
     "name": "#%%\n"
    }
   }
  },
  {
   "cell_type": "markdown",
   "source": [
    "### 2차 풀이\n",
    "`find()` 함수를 사용하면 존재하는 원소일 경우 위치를 반환, 존재하지 않을 경우 -1를 반환해준다.\n",
    "또, 알파벳들을 리스트로 선언할 필요없이 하나의 문자열로 선언하기만 해도 자동으로 리스트처럼 사용할 수 있다는 점을 기억하자."
   ],
   "metadata": {
    "collapsed": false
   }
  },
  {
   "cell_type": "code",
   "execution_count": null,
   "outputs": [],
   "source": [
    "alphabet = 'abcdefghijklmnopqrstuvwxyz'\n",
    "s = input()\n",
    "\n",
    "for a in alphabet:\n",
    "    print(s.find(a), end=' ')"
   ],
   "metadata": {
    "collapsed": false,
    "pycharm": {
     "name": "#%%\n"
    }
   }
  },
  {
   "cell_type": "markdown",
   "source": [
    "`find(str, start_index)`와 같이 탐색 시작지점을 지정할 수도 있다.\n",
    "또, 만약 뒤에서부터 인덱스를 찾고 싶다면 `rfind()` 함수를 사용하면 된다."
   ],
   "metadata": {
    "collapsed": false
   }
  },
  {
   "cell_type": "code",
   "execution_count": null,
   "outputs": [],
   "source": [],
   "metadata": {
    "collapsed": false,
    "pycharm": {
     "name": "#%%\n"
    }
   }
  }
 ],
 "metadata": {
  "kernelspec": {
   "display_name": "Python 3",
   "language": "python",
   "name": "python3"
  },
  "language_info": {
   "codemirror_mode": {
    "name": "ipython",
    "version": 2
   },
   "file_extension": ".py",
   "mimetype": "text/x-python",
   "name": "python",
   "nbconvert_exporter": "python",
   "pygments_lexer": "ipython2",
   "version": "2.7.6"
  }
 },
 "nbformat": 4,
 "nbformat_minor": 0
}