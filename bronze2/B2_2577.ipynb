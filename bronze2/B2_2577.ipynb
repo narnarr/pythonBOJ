{
 "cells": [
  {
   "cell_type": "markdown",
   "metadata": {
    "collapsed": true,
    "pycharm": {
     "name": "#%% md\n"
    }
   },
   "source": [
    "# 숫자의 개수"
   ]
  },
  {
   "cell_type": "markdown",
   "source": [
    "### 1차 풀이\n",
    "리스트 내 특정 숫자의 개수를 셀 때 for문을 돌렸다.\n",
    "또, 결과를 한줄씩 출력하기 위해 unpacking 연산자 `*`를 사용."
   ],
   "metadata": {
    "collapsed": false,
    "pycharm": {
     "name": "#%% md\n"
    }
   }
  },
  {
   "cell_type": "code",
   "execution_count": null,
   "outputs": [],
   "source": [
    "x = 1\n",
    "\n",
    "for _ in range(3):\n",
    "    x *= int(input())\n",
    "\n",
    "x = str(x)\n",
    "\n",
    "l = [0]*10\n",
    "\n",
    "for i in range(len(x)):\n",
    "    l[int(x[i])] += 1\n",
    "\n",
    "print(*l, sep='\\n')"
   ],
   "metadata": {
    "collapsed": false,
    "pycharm": {
     "name": "#%%\n"
    }
   }
  },
  {
   "cell_type": "markdown",
   "source": [
    "### 2차 풀이\n",
    "for문 대신 `count()` 함수 사용."
   ],
   "metadata": {
    "collapsed": false
   }
  },
  {
   "cell_type": "code",
   "execution_count": null,
   "outputs": [],
   "source": [
    "a = int(input())\n",
    "b = int(input())\n",
    "c = int(input())\n",
    "\n",
    "l = list(map(int, str(a*b*c)))\n",
    "\n",
    "for i in range(10):\n",
    "    print(l.count(i))"
   ],
   "metadata": {
    "collapsed": false,
    "pycharm": {
     "name": "#%%\n"
    }
   }
  },
  {
   "cell_type": "markdown",
   "source": [
    "1차 풀이는 68ms, 2차 풀이는 72ms로 기존 풀이가 더 빠르긴 했으나 `count()`와 같은 내장 함수 사용에 더 익숙해져야 할 것 같다."
   ],
   "metadata": {
    "collapsed": false,
    "pycharm": {
     "name": "#%% md\n"
    }
   }
  }
 ],
 "metadata": {
  "kernelspec": {
   "display_name": "Python 3",
   "language": "python",
   "name": "python3"
  },
  "language_info": {
   "codemirror_mode": {
    "name": "ipython",
    "version": 2
   },
   "file_extension": ".py",
   "mimetype": "text/x-python",
   "name": "python",
   "nbconvert_exporter": "python",
   "pygments_lexer": "ipython2",
   "version": "2.7.6"
  }
 },
 "nbformat": 4,
 "nbformat_minor": 0
}