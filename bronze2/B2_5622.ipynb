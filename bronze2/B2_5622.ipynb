{
 "cells": [
  {
   "cell_type": "markdown",
   "metadata": {
    "collapsed": true,
    "pycharm": {
     "name": "#%% md\n"
    }
   },
   "source": [
    "# 다이얼"
   ]
  },
  {
   "cell_type": "markdown",
   "source": [
    "### 1차 풀이\n",
    "알파벳 그룹을 리스트에 담고 그 인덱스를 구했다."
   ],
   "metadata": {
    "collapsed": false,
    "pycharm": {
     "name": "#%% md\n"
    }
   }
  },
  {
   "cell_type": "code",
   "execution_count": null,
   "outputs": [],
   "source": [
    "dial = \"ABC DEF GHI JKL MNO PQRS TUV WXYZ\".split()\n",
    "ans = 0\n",
    "target = input()\n",
    "\n",
    "for t in target:\n",
    "    for d in dial:\n",
    "        if t in d:\n",
    "            ans = ans + dial.index(d) + 3\n",
    "            break\n",
    "\n",
    "print(ans)"
   ],
   "metadata": {
    "collapsed": false,
    "pycharm": {
     "name": "#%%\n"
    }
   }
  },
  {
   "cell_type": "markdown",
   "source": [
    "### 2차 풀이\n",
    "위 1차 풀이의 for문을 한줄로 줄여 작성했다. for문과 if문은 순서대로 쓰면 된다."
   ],
   "metadata": {
    "collapsed": false
   }
  },
  {
   "cell_type": "code",
   "execution_count": null,
   "outputs": [],
   "source": [
    "dial = \"ABC DEF GHI JKL MNO PQRS TUV WXYZ\".split()\n",
    "print(sum(dial.index(d)+3 for t in input() for d in dial if t in d))"
   ],
   "metadata": {
    "collapsed": false,
    "pycharm": {
     "name": "#%%\n"
    }
   }
  },
  {
   "cell_type": "markdown",
   "source": [
    "### 3차 풀이\n",
    "딕셔너리 컴프리헨션을 사용했다. key는 알파벳, value는 알파벳 그룹 넘버에 3을 더한 거다.\n",
    "`enumerate()`의 두번째 인자로 시작 인덱스를 설정할 수 있다. 여기서는 3으로 시작."
   ],
   "metadata": {
    "collapsed": false
   }
  },
  {
   "cell_type": "code",
   "execution_count": null,
   "outputs": [],
   "source": [
    "dial = {al: n for n, al_group in enumerate((\"ABC\", \"DEF\", \"GHI\", \"JKL\", \"MNO\", \"PQRS\", \"TUV\", \"WXYZ\"), 3) for al in al_group}\n",
    "print(sum(dial[c] for c in input()))"
   ],
   "metadata": {
    "collapsed": false,
    "pycharm": {
     "name": "#%%\n"
    }
   }
  },
  {
   "cell_type": "markdown",
   "source": [
    "1, 2차 풀이는 68ms, 3차 풀이는 76ms로 전자가 좀 더 빠르다."
   ],
   "metadata": {
    "collapsed": false,
    "pycharm": {
     "name": "#%% md\n"
    }
   }
  }
 ],
 "metadata": {
  "kernelspec": {
   "display_name": "Python 3",
   "language": "python",
   "name": "python3"
  },
  "language_info": {
   "codemirror_mode": {
    "name": "ipython",
    "version": 2
   },
   "file_extension": ".py",
   "mimetype": "text/x-python",
   "name": "python",
   "nbconvert_exporter": "python",
   "pygments_lexer": "ipython2",
   "version": "2.7.6"
  }
 },
 "nbformat": 4,
 "nbformat_minor": 0
}