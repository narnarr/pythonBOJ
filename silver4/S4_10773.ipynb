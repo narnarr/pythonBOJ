{
 "cells": [
  {
   "cell_type": "markdown",
   "metadata": {
    "collapsed": true,
    "pycharm": {
     "name": "#%% md\n"
    }
   },
   "source": [
    "# 제로"
   ]
  },
  {
   "cell_type": "markdown",
   "source": [
    "한줄씩 입력값이 주어질 때 `for i in map(int, stdin)`을 잘 활용해보자.\n",
    "입력이 끝나면 자동으로 for문 밖의 코드를 실행하는 것이 이해가 잘 안가기는 하지만 우선 유용하게 사용해보자."
   ],
   "metadata": {
    "collapsed": false
   }
  },
  {
   "cell_type": "markdown",
   "source": [
    "### 1차 풀이\n",
    "`deque`를 사용해 스택을 구현했다."
   ],
   "metadata": {
    "collapsed": false,
    "pycharm": {
     "name": "#%% md\n"
    }
   }
  },
  {
   "cell_type": "code",
   "execution_count": null,
   "outputs": [],
   "source": [
    "from collections import deque\n",
    "from sys import stdin\n",
    "\n",
    "input()\n",
    "dq = deque([])\n",
    "\n",
    "for i in map(int, stdin):\n",
    "    if i == 0:\n",
    "        dq.pop()\n",
    "    else:\n",
    "        dq.append(i)\n",
    "\n",
    "print(sum(dq))"
   ],
   "metadata": {
    "collapsed": false,
    "pycharm": {
     "name": "#%%\n"
    }
   }
  },
  {
   "cell_type": "markdown",
   "source": [
    "### 2차 풀이\n",
    "값이 0이면 False, 그외면 True라는 점을 활용해 배열 원소 추가 및 삭제 작업을 간단하게 구현했다."
   ],
   "metadata": {
    "collapsed": false
   }
  },
  {
   "cell_type": "code",
   "execution_count": null,
   "outputs": [],
   "source": [
    "from sys import stdin\n",
    "\n",
    "input()\n",
    "l = []\n",
    "\n",
    "for i in map(int, stdin):\n",
    "    l.append(i) if i else l.pop()\n",
    "\n",
    "print(sum(l))"
   ],
   "metadata": {
    "collapsed": false,
    "pycharm": {
     "name": "#%%\n"
    }
   }
  }
 ],
 "metadata": {
  "kernelspec": {
   "display_name": "Python 3",
   "language": "python",
   "name": "python3"
  },
  "language_info": {
   "codemirror_mode": {
    "name": "ipython",
    "version": 2
   },
   "file_extension": ".py",
   "mimetype": "text/x-python",
   "name": "python",
   "nbconvert_exporter": "python",
   "pygments_lexer": "ipython2",
   "version": "2.7.6"
  }
 },
 "nbformat": 4,
 "nbformat_minor": 0
}