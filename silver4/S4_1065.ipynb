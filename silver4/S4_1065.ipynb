{
 "cells": [
  {
   "cell_type": "markdown",
   "metadata": {
    "collapsed": true,
    "pycharm": {
     "name": "#%% md\n"
    }
   },
   "source": [
    "# 한수"
   ]
  },
  {
   "cell_type": "markdown",
   "source": [
    "### 1차 풀이\n",
    "백준 알고리즘 분류대로 함수를 사용했다.\n",
    "모든 수가 한수인지 확인했다."
   ],
   "metadata": {
    "collapsed": false,
    "pycharm": {
     "name": "#%% md\n"
    }
   }
  },
  {
   "cell_type": "code",
   "execution_count": null,
   "outputs": [],
   "source": [
    "def check_han(n):\n",
    "    n_list = list(map(int, list(str(n))))\n",
    "\n",
    "    for i in range(1, len(n_list)):\n",
    "        if (n_list[1]-n_list[0] != n_list[i]- n_list[i-1]):\n",
    "            return False\n",
    "    return True\n",
    "\n",
    "ans = 0\n",
    "for i in range(1, int(input())+1):\n",
    "    if check_han(i): ans+=1\n",
    "\n",
    "print(ans)"
   ],
   "metadata": {
    "collapsed": false,
    "pycharm": {
     "name": "#%%\n"
    }
   }
  },
  {
   "cell_type": "markdown",
   "source": [],
   "metadata": {
    "collapsed": false,
    "pycharm": {
     "name": "#%% md\n"
    }
   }
  },
  {
   "cell_type": "code",
   "execution_count": null,
   "outputs": [],
   "source": [
    "ans = 0\n",
    "for i in range(1, int(input())+1):\n",
    "    if (i<=99): ans+=1\n",
    "    else:\n",
    "        num = list(map(int, str(i)))\n",
    "        if (num[2]-num[1] == num[1]-num[0]): ans+=1\n",
    "print(ans)"
   ],
   "metadata": {
    "collapsed": false,
    "pycharm": {
     "name": "#%%\n"
    }
   }
  }
 ],
 "metadata": {
  "kernelspec": {
   "display_name": "Python 3",
   "language": "python",
   "name": "python3"
  },
  "language_info": {
   "codemirror_mode": {
    "name": "ipython",
    "version": 2
   },
   "file_extension": ".py",
   "mimetype": "text/x-python",
   "name": "python",
   "nbconvert_exporter": "python",
   "pygments_lexer": "ipython2",
   "version": "2.7.6"
  }
 },
 "nbformat": 4,
 "nbformat_minor": 0
}