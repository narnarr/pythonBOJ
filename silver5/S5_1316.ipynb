{
 "cells": [
  {
   "cell_type": "markdown",
   "metadata": {
    "collapsed": true,
    "pycharm": {
     "name": "#%% md\n"
    }
   },
   "source": [
    "# 그룹 단어 체커"
   ]
  },
  {
   "cell_type": "markdown",
   "source": [
    "### 1차 풀이"
   ],
   "metadata": {
    "collapsed": false,
    "pycharm": {
     "name": "#%% md\n"
    }
   }
  },
  {
   "cell_type": "code",
   "execution_count": null,
   "outputs": [],
   "source": [
    "answer = 0\n",
    "\n",
    "for _ in range(int(input())):\n",
    "    al = 'abcdefghijklmnopqrstuvwxyz'\n",
    "    word = input()\n",
    "\n",
    "    flag = True\n",
    "\n",
    "    for i in range(len(word)-1):\n",
    "        if word[i] in al:\n",
    "            if word[i] == word[i+1]:\n",
    "                continue\n",
    "            else:\n",
    "                al = al.replace(word[i], '')\n",
    "        else:\n",
    "            flag = False\n",
    "            break\n",
    "    if word[-1] not in al:\n",
    "        flag = False\n",
    "\n",
    "    if flag:\n",
    "        answer += 1\n",
    "\n",
    "print(answer)"
   ],
   "metadata": {
    "collapsed": false,
    "pycharm": {
     "name": "#%%\n"
    }
   }
  },
  {
   "cell_type": "markdown",
   "source": [
    "### 2차 풀이\n",
    "백준 맞힌 사람 중 1등의 코드인데 내가 제출했을 땐 76ms로 가장 느리다."
   ],
   "metadata": {
    "collapsed": false
   }
  },
  {
   "cell_type": "code",
   "execution_count": null,
   "outputs": [],
   "source": [
    "answer = 0\n",
    "for _ in range(int(input())):\n",
    "    word = input()\n",
    "    if list(word) == sorted(word, key=word.find):\n",
    "        answer += 1\n",
    "print(answer)"
   ],
   "metadata": {
    "collapsed": false,
    "pycharm": {
     "name": "#%%\n"
    }
   }
  },
  {
   "cell_type": "markdown",
   "source": [
    "### 3차 풀이\n",
    "문자열 내장 함수 `find()`를 사용하여 풀이.\n",
    "현명한 코드 같다. 속도는 72ms로 1차 풀이와 동일하다."
   ],
   "metadata": {
    "collapsed": false
   }
  },
  {
   "cell_type": "code",
   "execution_count": null,
   "outputs": [],
   "source": [
    "n = int(input())\n",
    "for _ in range(n):\n",
    "    word = input()\n",
    "\n",
    "    for i in range(len(word)-1):\n",
    "        if word.find(word[i]) > word.find(word[i+1]):\n",
    "            n -= 1\n",
    "            break\n",
    "\n",
    "print(n)"
   ],
   "metadata": {
    "collapsed": false,
    "pycharm": {
     "name": "#%%\n"
    }
   }
  },
  {
   "cell_type": "markdown",
   "source": [
    "### 4차 풀이\n",
    "`set()`를 활용한 풀이. 속도는 76ms"
   ],
   "metadata": {
    "collapsed": false
   }
  },
  {
   "cell_type": "code",
   "execution_count": null,
   "outputs": [],
   "source": [
    "n = int(input())\n",
    "answer = 0\n",
    "\n",
    "for _ in range(n):\n",
    "    cnt = 0\n",
    "    word = input()\n",
    "    for i in range(len(word)-1):\n",
    "        if word[i] != word[i+1]:\n",
    "            cnt += 1\n",
    "\n",
    "    if cnt+1 == len(set(word)):\n",
    "        answer += 1\n",
    "\n",
    "print(answer)"
   ],
   "metadata": {
    "collapsed": false,
    "pycharm": {
     "name": "#%%\n"
    }
   }
  }
 ],
 "metadata": {
  "kernelspec": {
   "display_name": "Python 3",
   "language": "python",
   "name": "python3"
  },
  "language_info": {
   "codemirror_mode": {
    "name": "ipython",
    "version": 2
   },
   "file_extension": ".py",
   "mimetype": "text/x-python",
   "name": "python",
   "nbconvert_exporter": "python",
   "pygments_lexer": "ipython2",
   "version": "2.7.6"
  }
 },
 "nbformat": 4,
 "nbformat_minor": 0
}