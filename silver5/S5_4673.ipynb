{
 "cells": [
  {
   "cell_type": "markdown",
   "metadata": {
    "collapsed": true,
    "pycharm": {
     "name": "#%% md\n"
    }
   },
   "source": [
    "# 셀프 넘버"
   ]
  },
  {
   "cell_type": "markdown",
   "source": [
    "### 1차 풀이\n",
    "1부터 10000까지의 수가 담긴 set를 만든 후 셀프 넘버를 제거"
   ],
   "metadata": {
    "collapsed": false,
    "pycharm": {
     "name": "#%% md\n"
    }
   }
  },
  {
   "cell_type": "code",
   "execution_count": null,
   "outputs": [],
   "source": [
    "def d(n):\n",
    "    return n+sum(map(int, list(str(n))))\n",
    "\n",
    "numbers = set(range(1,10001))\n",
    "\n",
    "for n in range(10000):\n",
    "    if d(n) in numbers: numbers.remove(d(n))\n",
    "\n",
    "print(*numbers, sep='\\n')"
   ],
   "metadata": {
    "collapsed": false,
    "pycharm": {
     "name": "#%%\n"
    }
   }
  },
  {
   "cell_type": "markdown",
   "source": [
    "### 2차 풀이\n",
    "빈 set에 셀프 넘버를 추가한 후 set에 포함되지 않은 수를 출력.\n",
    "1차 풀이는 84ms 2차 풀이는 80ms로 조금 더 빠르다. for문이 하나 더 늘어났는데도 불구하고..."
   ],
   "metadata": {
    "collapsed": false
   }
  },
  {
   "cell_type": "code",
   "execution_count": null,
   "outputs": [],
   "source": [
    "def d(n):\n",
    "    return n+sum(map(int, list(str(n))))\n",
    "\n",
    "self_numbers = set()\n",
    "for i in range(10000):\n",
    "    self_numbers.add(d(i))\n",
    "\n",
    "for i in range(1,10000):\n",
    "    if (i not in self_numbers): print(i)"
   ],
   "metadata": {
    "collapsed": false,
    "pycharm": {
     "name": "#%%\n"
    }
   }
  }
 ],
 "metadata": {
  "kernelspec": {
   "display_name": "Python 3",
   "language": "python",
   "name": "python3"
  },
  "language_info": {
   "codemirror_mode": {
    "name": "ipython",
    "version": 2
   },
   "file_extension": ".py",
   "mimetype": "text/x-python",
   "name": "python",
   "nbconvert_exporter": "python",
   "pygments_lexer": "ipython2",
   "version": "2.7.6"
  }
 },
 "nbformat": 4,
 "nbformat_minor": 0
}